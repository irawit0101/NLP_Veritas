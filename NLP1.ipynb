{
 "cells": [
  {
   "cell_type": "code",
   "execution_count": 10,
   "id": "7af0f603",
   "metadata": {},
   "outputs": [
    {
     "name": "stdout",
     "output_type": "stream",
     "text": [
      "Requirement already satisfied: nltk in c:\\users\\priyanshu tiwari\\anaconda3\\lib\\site-packages (3.7)\n",
      "Requirement already satisfied: regex>=2021.8.3 in c:\\users\\priyanshu tiwari\\anaconda3\\lib\\site-packages (from nltk) (2022.7.9)\n",
      "Requirement already satisfied: tqdm in c:\\users\\priyanshu tiwari\\anaconda3\\lib\\site-packages (from nltk) (4.64.1)\n",
      "Requirement already satisfied: joblib in c:\\users\\priyanshu tiwari\\anaconda3\\lib\\site-packages (from nltk) (1.1.0)\n",
      "Requirement already satisfied: click in c:\\users\\priyanshu tiwari\\anaconda3\\lib\\site-packages (from nltk) (8.0.4)\n",
      "Requirement already satisfied: colorama in c:\\users\\priyanshu tiwari\\anaconda3\\lib\\site-packages (from click->nltk) (0.4.5)\n",
      "Note: you may need to restart the kernel to use updated packages.\n"
     ]
    }
   ],
   "source": [
    "pip install nltk"
   ]
  },
  {
   "cell_type": "code",
   "execution_count": 2,
   "id": "e89bbb66",
   "metadata": {},
   "outputs": [],
   "source": [
    "import nltk"
   ]
  },
  {
   "cell_type": "code",
   "execution_count": 29,
   "id": "bc87d9d3",
   "metadata": {
    "scrolled": true
   },
   "outputs": [
    {
     "name": "stderr",
     "output_type": "stream",
     "text": [
      "[nltk_data] Downloading package punkt to C:\\Users\\Priyanshu\n",
      "[nltk_data]     Tiwari\\AppData\\Roaming\\nltk_data...\n",
      "[nltk_data]   Package punkt is already up-to-date!\n"
     ]
    },
    {
     "data": {
      "text/plain": [
       "True"
      ]
     },
     "execution_count": 29,
     "metadata": {},
     "output_type": "execute_result"
    }
   ],
   "source": [
    "nltk.download('punkt')"
   ]
  },
  {
   "cell_type": "code",
   "execution_count": 20,
   "id": "3d7e9f82",
   "metadata": {},
   "outputs": [
    {
     "name": "stdout",
     "output_type": "stream",
     "text": [
      "showing info https://raw.githubusercontent.com/nltk/nltk_data/gh-pages/index.xml\n"
     ]
    },
    {
     "data": {
      "text/plain": [
       "True"
      ]
     },
     "execution_count": 20,
     "metadata": {},
     "output_type": "execute_result"
    }
   ],
   "source": [
    "nltk.download()"
   ]
  },
  {
   "cell_type": "code",
   "execution_count": 17,
   "id": "52fe04c5",
   "metadata": {},
   "outputs": [],
   "source": [
    "import pandas as pd"
   ]
  },
  {
   "cell_type": "code",
   "execution_count": 31,
   "id": "425daff5",
   "metadata": {},
   "outputs": [],
   "source": [
    "fake=pd.read_csv(\"fake.csv\",dtype=object)\n",
    "genuine=pd.read_csv(\"true.csv\",dtype=object)"
   ]
  },
  {
   "cell_type": "code",
   "execution_count": 35,
   "id": "f26b3293",
   "metadata": {
    "scrolled": true
   },
   "outputs": [
    {
     "name": "stdout",
     "output_type": "stream",
     "text": [
      "<class 'pandas.core.frame.DataFrame'>\n",
      "RangeIndex: 23502 entries, 0 to 23501\n",
      "Columns: 172 entries, title to Unnamed: 171\n",
      "dtypes: object(172)\n",
      "memory usage: 30.8+ MB\n"
     ]
    },
    {
     "data": {
      "text/plain": [
       "None"
      ]
     },
     "metadata": {},
     "output_type": "display_data"
    }
   ],
   "source": [
    "display(fake.info())"
   ]
  },
  {
   "cell_type": "code",
   "execution_count": 37,
   "id": "dbf8c8b6",
   "metadata": {},
   "outputs": [],
   "source": [
    "fake[\"target\"]=0\n",
    "genuine[\"target\"]=1"
   ]
  },
  {
   "cell_type": "code",
   "execution_count": 40,
   "id": "a8c401dc",
   "metadata": {},
   "outputs": [
    {
     "name": "stdout",
     "output_type": "stream",
     "text": [
      "Index(['text', 'Unnamed: 4', 'Unnamed: 5', 'Unnamed: 6', 'Unnamed: 7',\n",
      "       'Unnamed: 8', 'Unnamed: 9', 'Unnamed: 10', 'Unnamed: 11', 'Unnamed: 12',\n",
      "       ...\n",
      "       'Unnamed: 163', 'Unnamed: 164', 'Unnamed: 165', 'Unnamed: 166',\n",
      "       'Unnamed: 167', 'Unnamed: 168', 'Unnamed: 169', 'Unnamed: 170',\n",
      "       'Unnamed: 171', 'target'],\n",
      "      dtype='object', length=170)\n"
     ]
    }
   ],
   "source": [
    "data=pd.concat([fake,genuine],axis=0)\n",
    "data=data.reset_index(drop=True)\n",
    "data=data.drop([\"subject\",\"date\",\"title\"],axis=1)\n",
    "print(data.columns)"
   ]
  },
  {
   "cell_type": "code",
   "execution_count": 69,
   "id": "4f502174",
   "metadata": {},
   "outputs": [
    {
     "data": {
      "text/plain": [
       "['text',\n",
       " 'Unnamed',\n",
       " ':',\n",
       " '4',\n",
       " '\\\\',\n",
       " '0',\n",
       " '[',\n",
       " 'Donald',\n",
       " ',',\n",
       " 'Trump',\n",
       " ',',\n",
       " 'just',\n",
       " ',',\n",
       " 'couldn',\n",
       " ',',\n",
       " 't',\n",
       " ',',\n",
       " 'wish',\n",
       " ',',\n",
       " 'all',\n",
       " ',',\n",
       " 'Am',\n",
       " '...',\n",
       " 'NaN',\n",
       " '1',\n",
       " '[',\n",
       " 'House',\n",
       " ',',\n",
       " 'Intelligence',\n",
       " ',',\n",
       " 'Committee',\n",
       " ',',\n",
       " 'Chairman',\n",
       " ',',\n",
       " 'Dev',\n",
       " '...',\n",
       " 'NaN',\n",
       " '2',\n",
       " '[',\n",
       " 'On',\n",
       " ',',\n",
       " 'Friday',\n",
       " ',',\n",
       " ',',\n",
       " ',',\n",
       " 'it',\n",
       " ',',\n",
       " 'was',\n",
       " ',',\n",
       " 'revealed',\n",
       " ',',\n",
       " 'that',\n",
       " ',',\n",
       " 'forme',\n",
       " '...',\n",
       " 'NaN',\n",
       " '3',\n",
       " '[',\n",
       " 'On',\n",
       " ',',\n",
       " 'Christmas',\n",
       " ',',\n",
       " 'day',\n",
       " ',',\n",
       " ',',\n",
       " ',',\n",
       " 'Donald',\n",
       " ',',\n",
       " 'Trump',\n",
       " ',',\n",
       " 'announc',\n",
       " '...',\n",
       " 'NaN',\n",
       " '4',\n",
       " '[',\n",
       " 'Pope',\n",
       " ',',\n",
       " 'Francis',\n",
       " ',',\n",
       " 'used',\n",
       " ',',\n",
       " 'his',\n",
       " ',',\n",
       " 'annual',\n",
       " ',',\n",
       " 'Christmas',\n",
       " ',',\n",
       " '...',\n",
       " 'NaN',\n",
       " '...',\n",
       " '...',\n",
       " '...',\n",
       " '44914',\n",
       " '[',\n",
       " 'BRUSSELS',\n",
       " ',',\n",
       " '(',\n",
       " ',',\n",
       " 'Reuters',\n",
       " ',',\n",
       " ')',\n",
       " ',',\n",
       " '-',\n",
       " ',',\n",
       " 'NATO',\n",
       " ',',\n",
       " 'allies',\n",
       " ',',\n",
       " 'on',\n",
       " ',',\n",
       " '...',\n",
       " 'NaN',\n",
       " '44915',\n",
       " '[',\n",
       " 'LONDON',\n",
       " ',',\n",
       " '(',\n",
       " ',',\n",
       " 'Reuters',\n",
       " ',',\n",
       " ')',\n",
       " ',',\n",
       " '-',\n",
       " ',',\n",
       " 'LexisNexis',\n",
       " ',',\n",
       " ',',\n",
       " ',',\n",
       " 'a',\n",
       " ',',\n",
       " 'p',\n",
       " '...',\n",
       " 'NaN',\n",
       " '44916',\n",
       " '[',\n",
       " 'MINSK',\n",
       " ',',\n",
       " '(',\n",
       " ',',\n",
       " 'Reuters',\n",
       " ',',\n",
       " ')',\n",
       " ',',\n",
       " '-',\n",
       " ',',\n",
       " 'In',\n",
       " ',',\n",
       " 'the',\n",
       " ',',\n",
       " 'shadow',\n",
       " ',',\n",
       " 'of',\n",
       " ',',\n",
       " '...',\n",
       " 'NaN',\n",
       " '44917',\n",
       " '[',\n",
       " 'MOSCOW',\n",
       " ',',\n",
       " '(',\n",
       " ',',\n",
       " 'Reuters',\n",
       " ',',\n",
       " ')',\n",
       " ',',\n",
       " '-',\n",
       " ',',\n",
       " 'Vatican',\n",
       " ',',\n",
       " 'Secretary',\n",
       " ',',\n",
       " '...',\n",
       " 'NaN',\n",
       " '44918',\n",
       " '[',\n",
       " 'JAKARTA',\n",
       " ',',\n",
       " '(',\n",
       " ',',\n",
       " 'Reuters',\n",
       " ',',\n",
       " ')',\n",
       " ',',\n",
       " '-',\n",
       " ',',\n",
       " 'Indonesia',\n",
       " ',',\n",
       " 'will',\n",
       " ',',\n",
       " 'b',\n",
       " '...',\n",
       " 'NaN',\n",
       " 'Unnamed',\n",
       " ':',\n",
       " '5',\n",
       " 'Unnamed',\n",
       " ':',\n",
       " '6',\n",
       " 'Unnamed',\n",
       " ':',\n",
       " '7',\n",
       " 'Unnamed',\n",
       " ':',\n",
       " '8',\n",
       " 'Unnamed',\n",
       " ':',\n",
       " '9',\n",
       " 'Unnamed',\n",
       " ':',\n",
       " '10',\n",
       " '\\\\',\n",
       " '0',\n",
       " 'NaN',\n",
       " 'NaN',\n",
       " 'NaN',\n",
       " 'NaN',\n",
       " 'NaN',\n",
       " 'NaN',\n",
       " '1',\n",
       " 'NaN',\n",
       " 'NaN',\n",
       " 'NaN',\n",
       " 'NaN',\n",
       " 'NaN',\n",
       " 'NaN',\n",
       " '2',\n",
       " 'NaN',\n",
       " 'NaN',\n",
       " 'NaN',\n",
       " 'NaN',\n",
       " 'NaN',\n",
       " 'NaN',\n",
       " '3',\n",
       " 'NaN',\n",
       " 'NaN',\n",
       " 'NaN',\n",
       " 'NaN',\n",
       " 'NaN',\n",
       " 'NaN',\n",
       " '4',\n",
       " 'NaN',\n",
       " 'NaN',\n",
       " 'NaN',\n",
       " 'NaN',\n",
       " 'NaN',\n",
       " 'NaN',\n",
       " '...',\n",
       " '...',\n",
       " '...',\n",
       " '...',\n",
       " '...',\n",
       " '...',\n",
       " '...',\n",
       " '44914',\n",
       " 'NaN',\n",
       " 'NaN',\n",
       " 'NaN',\n",
       " 'NaN',\n",
       " 'NaN',\n",
       " 'NaN',\n",
       " '44915',\n",
       " 'NaN',\n",
       " 'NaN',\n",
       " 'NaN',\n",
       " 'NaN',\n",
       " 'NaN',\n",
       " 'NaN',\n",
       " '44916',\n",
       " 'NaN',\n",
       " 'NaN',\n",
       " 'NaN',\n",
       " 'NaN',\n",
       " 'NaN',\n",
       " 'NaN',\n",
       " '44917',\n",
       " 'NaN',\n",
       " 'NaN',\n",
       " 'NaN',\n",
       " 'NaN',\n",
       " 'NaN',\n",
       " 'NaN',\n",
       " '44918',\n",
       " 'NaN',\n",
       " 'NaN',\n",
       " 'NaN',\n",
       " 'NaN',\n",
       " 'NaN',\n",
       " 'NaN',\n",
       " 'Unnamed',\n",
       " ':',\n",
       " '11',\n",
       " 'Unnamed',\n",
       " ':',\n",
       " '12',\n",
       " '...',\n",
       " 'Unnamed',\n",
       " ':',\n",
       " '163',\n",
       " 'Unnamed',\n",
       " ':',\n",
       " '164',\n",
       " 'Unnamed',\n",
       " ':',\n",
       " '165',\n",
       " '\\\\',\n",
       " '0',\n",
       " 'NaN',\n",
       " 'NaN',\n",
       " '...',\n",
       " 'NaN',\n",
       " 'NaN',\n",
       " 'NaN',\n",
       " '1',\n",
       " 'NaN',\n",
       " 'NaN',\n",
       " '...',\n",
       " 'NaN',\n",
       " 'NaN',\n",
       " 'NaN',\n",
       " '2',\n",
       " 'NaN',\n",
       " 'NaN',\n",
       " '...',\n",
       " 'NaN',\n",
       " 'NaN',\n",
       " 'NaN',\n",
       " '3',\n",
       " 'NaN',\n",
       " 'NaN',\n",
       " '...',\n",
       " 'NaN',\n",
       " 'NaN',\n",
       " 'NaN',\n",
       " '4',\n",
       " 'NaN',\n",
       " 'NaN',\n",
       " '...',\n",
       " 'NaN',\n",
       " 'NaN',\n",
       " 'NaN',\n",
       " '...',\n",
       " '...',\n",
       " '...',\n",
       " '...',\n",
       " '...',\n",
       " '...',\n",
       " '...',\n",
       " '44914',\n",
       " 'NaN',\n",
       " 'NaN',\n",
       " '...',\n",
       " 'NaN',\n",
       " 'NaN',\n",
       " 'NaN',\n",
       " '44915',\n",
       " 'NaN',\n",
       " 'NaN',\n",
       " '...',\n",
       " 'NaN',\n",
       " 'NaN',\n",
       " 'NaN',\n",
       " '44916',\n",
       " 'NaN',\n",
       " 'NaN',\n",
       " '...',\n",
       " 'NaN',\n",
       " 'NaN',\n",
       " 'NaN',\n",
       " '44917',\n",
       " 'NaN',\n",
       " 'NaN',\n",
       " '...',\n",
       " 'NaN',\n",
       " 'NaN',\n",
       " 'NaN',\n",
       " '44918',\n",
       " 'NaN',\n",
       " 'NaN',\n",
       " '...',\n",
       " 'NaN',\n",
       " 'NaN',\n",
       " 'NaN',\n",
       " 'Unnamed',\n",
       " ':',\n",
       " '166',\n",
       " 'Unnamed',\n",
       " ':',\n",
       " '167',\n",
       " 'Unnamed',\n",
       " ':',\n",
       " '168',\n",
       " 'Unnamed',\n",
       " ':',\n",
       " '169',\n",
       " 'Unnamed',\n",
       " ':',\n",
       " '170',\n",
       " '\\\\',\n",
       " '0',\n",
       " 'NaN',\n",
       " 'NaN',\n",
       " 'NaN',\n",
       " 'NaN',\n",
       " 'NaN',\n",
       " '1',\n",
       " 'NaN',\n",
       " 'NaN',\n",
       " 'NaN',\n",
       " 'NaN',\n",
       " 'NaN',\n",
       " '2',\n",
       " 'NaN',\n",
       " 'NaN',\n",
       " 'NaN',\n",
       " 'NaN',\n",
       " 'NaN',\n",
       " '3',\n",
       " 'NaN',\n",
       " 'NaN',\n",
       " 'NaN',\n",
       " 'NaN',\n",
       " 'NaN',\n",
       " '4',\n",
       " 'NaN',\n",
       " 'NaN',\n",
       " 'NaN',\n",
       " 'NaN',\n",
       " 'NaN',\n",
       " '...',\n",
       " '...',\n",
       " '...',\n",
       " '...',\n",
       " '...',\n",
       " '...',\n",
       " '44914',\n",
       " 'NaN',\n",
       " 'NaN',\n",
       " 'NaN',\n",
       " 'NaN',\n",
       " 'NaN',\n",
       " '44915',\n",
       " 'NaN',\n",
       " 'NaN',\n",
       " 'NaN',\n",
       " 'NaN',\n",
       " 'NaN',\n",
       " '44916',\n",
       " 'NaN',\n",
       " 'NaN',\n",
       " 'NaN',\n",
       " 'NaN',\n",
       " 'NaN',\n",
       " '44917',\n",
       " 'NaN',\n",
       " 'NaN',\n",
       " 'NaN',\n",
       " 'NaN',\n",
       " 'NaN',\n",
       " '44918',\n",
       " 'NaN',\n",
       " 'NaN',\n",
       " 'NaN',\n",
       " 'NaN',\n",
       " 'NaN',\n",
       " 'Unnamed',\n",
       " ':',\n",
       " '171',\n",
       " 'target',\n",
       " '0',\n",
       " 'NaN',\n",
       " '0',\n",
       " '1',\n",
       " 'NaN',\n",
       " '0',\n",
       " '2',\n",
       " 'NaN',\n",
       " '0',\n",
       " '3',\n",
       " 'NaN',\n",
       " '0',\n",
       " '4',\n",
       " 'NaN',\n",
       " '0',\n",
       " '...',\n",
       " '...',\n",
       " '...',\n",
       " '44914',\n",
       " 'NaN',\n",
       " '1',\n",
       " '44915',\n",
       " 'NaN',\n",
       " '1',\n",
       " '44916',\n",
       " 'NaN',\n",
       " '1',\n",
       " '44917',\n",
       " 'NaN',\n",
       " '1',\n",
       " '44918',\n",
       " 'NaN',\n",
       " '1',\n",
       " '[',\n",
       " '44919',\n",
       " 'rows',\n",
       " 'x',\n",
       " '170',\n",
       " 'columns',\n",
       " ']']"
      ]
     },
     "execution_count": 69,
     "metadata": {},
     "output_type": "execute_result"
    }
   ],
   "source": [
    "from nltk.tokenize import word_tokenize\n",
    "word_tokenize(str(data))"
   ]
  },
  {
   "cell_type": "code",
   "execution_count": 71,
   "id": "16024bd9",
   "metadata": {},
   "outputs": [],
   "source": [
    "from nltk.stem.snowball import SnowballStemmer \n",
    "porter=SnowballStemmer(\"english\")"
   ]
  },
  {
   "cell_type": "code",
   "execution_count": 72,
   "id": "cd918717",
   "metadata": {},
   "outputs": [],
   "source": [
    "def stem_it(text):\n",
    "    return[porter.stem(word) for word in text]"
   ]
  },
  {
   "cell_type": "code",
   "execution_count": 73,
   "id": "f4464a5e",
   "metadata": {},
   "outputs": [],
   "source": [
    "data['text']=data['text'].apply(stem_it)"
   ]
  },
  {
   "cell_type": "code",
   "execution_count": 74,
   "id": "cc3570c7",
   "metadata": {},
   "outputs": [],
   "source": [
    "def stop_it(t):\n",
    "    dt=[word for word in t if len(word)>2]\n",
    "    return dt"
   ]
  },
  {
   "cell_type": "code",
   "execution_count": 75,
   "id": "4c1dcf47",
   "metadata": {},
   "outputs": [],
   "source": [
    "data['text']=data['text'].apply(stop_it)"
   ]
  },
  {
   "cell_type": "code",
   "execution_count": 76,
   "id": "6954454a",
   "metadata": {},
   "outputs": [],
   "source": [
    "data['text']=data['text'].apply(' '.join)"
   ]
  },
  {
   "cell_type": "code",
   "execution_count": 78,
   "id": "6a7252fb",
   "metadata": {},
   "outputs": [],
   "source": [
    "from sklearn.model_selection import train_test_split\n",
    "x_train,x_test,y_train,y_test=train_test_split(data['text'],data['target'],test_size=0.25)"
   ]
  },
  {
   "cell_type": "code",
   "execution_count": 79,
   "id": "735a4884",
   "metadata": {},
   "outputs": [],
   "source": [
    "from sklearn.feature_extraction.text import TfidfVectorizer\n",
    "my_tfidf=TfidfVectorizer(max_df=0.7)\n",
    "tfidf_train=my_tfidf.fit_transform(x_train)\n",
    "tfidf_test=my_tfidf.transform(x_test)"
   ]
  },
  {
   "cell_type": "code",
   "execution_count": 80,
   "id": "88488a05",
   "metadata": {},
   "outputs": [
    {
     "name": "stdout",
     "output_type": "stream",
     "text": [
      "  (0, 35763)\t0.01392477340389036\n",
      "  (0, 31567)\t0.016797813826929003\n",
      "  (0, 34646)\t0.01390892683034197\n",
      "  (0, 97341)\t0.025574383069985166\n",
      "  (0, 9666)\t0.014998966097245745\n",
      "  (0, 21426)\t0.01616281025975514\n",
      "  (0, 49038)\t0.01512915960956763\n",
      "  (0, 73914)\t0.012343941539848597\n",
      "  (0, 33729)\t0.024165777694953823\n",
      "  (0, 97332)\t0.025355087240710318\n",
      "  (0, 65852)\t0.023282219076076457\n",
      "  (0, 26070)\t0.018659029857157294\n",
      "  (0, 29101)\t0.02764946179935104\n",
      "  (0, 10643)\t0.021886062829940305\n",
      "  (0, 10940)\t0.04394696791523022\n",
      "  (0, 84351)\t0.022106876458133376\n",
      "  (0, 84765)\t0.02285916249842848\n",
      "  (0, 56925)\t0.015157441339842833\n",
      "  (0, 31555)\t0.025755037791656134\n",
      "  (0, 944)\t0.031134724755461068\n",
      "  (0, 78047)\t0.020238022262460312\n",
      "  (0, 63086)\t0.015737171194101646\n",
      "  (0, 7788)\t0.017864074791804376\n",
      "  (0, 52719)\t0.02635672802997139\n",
      "  (0, 68451)\t0.09441293827681213\n",
      "  :\t:\n",
      "  (33688, 38111)\t0.08199652108256966\n",
      "  (33688, 61282)\t0.17486189108974698\n",
      "  (33688, 30425)\t0.09764200797118877\n",
      "  (33688, 13744)\t0.08319528309734733\n",
      "  (33688, 81816)\t0.029431903471414687\n",
      "  (33688, 11654)\t0.21606832090787415\n",
      "  (33688, 22497)\t0.06344243104852056\n",
      "  (33688, 74448)\t0.04363823216426285\n",
      "  (33688, 66165)\t0.05126942670262872\n",
      "  (33688, 61577)\t0.02878637119410464\n",
      "  (33688, 89378)\t0.043762011324999836\n",
      "  (33688, 59548)\t0.04114192833234784\n",
      "  (33688, 11248)\t0.07401657312275728\n",
      "  (33688, 25239)\t0.04462244343768542\n",
      "  (33688, 27838)\t0.03538546544258001\n",
      "  (33688, 57590)\t0.03085431976099228\n",
      "  (33688, 56910)\t0.05014693021983221\n",
      "  (33688, 57884)\t0.04536532638488253\n",
      "  (33688, 33513)\t0.020779367446335545\n",
      "  (33688, 12697)\t0.054110559182353066\n",
      "  (33688, 83447)\t0.17088888318059753\n",
      "  (33688, 83881)\t0.07577405835687981\n",
      "  (33688, 65863)\t0.07304188172085195\n",
      "  (33688, 7368)\t0.0490890272282493\n",
      "  (33688, 85784)\t0.03334155386289892\n"
     ]
    }
   ],
   "source": [
    "print(tfidf_train)"
   ]
  },
  {
   "cell_type": "markdown",
   "id": "8161e723",
   "metadata": {},
   "source": [
    " from sklearn.linear_model import LogisticRegression\n",
    "from sklearn.tree import DecisionTreeClassifier\n",
    "from sklearn.metrics import accuracy_score"
   ]
  },
  {
   "cell_type": "code",
   "execution_count": 91,
   "id": "979e8fcc",
   "metadata": {},
   "outputs": [
    {
     "data": {
      "text/plain": [
       "0.994033837934105"
      ]
     },
     "execution_count": 91,
     "metadata": {},
     "output_type": "execute_result"
    }
   ],
   "source": [
    "model_1=LogisticRegression(max_iter=900)\n",
    "model_1.fit(tfidf_train,y_train)\n",
    "pred_1=model_1.predict(tfidf_test)\n",
    "cr1=accuracy_score(y_test,pred_1)\n",
    "cr1"
   ]
  },
  {
   "cell_type": "code",
   "execution_count": 89,
   "id": "ef23b55a",
   "metadata": {},
   "outputs": [
    {
     "data": {
      "text/plain": [
       "PassiveAggressiveClassifier(max_iter=50)"
      ]
     },
     "execution_count": 89,
     "metadata": {},
     "output_type": "execute_result"
    }
   ],
   "source": [
    "from sklearn.linear_model import PassiveAggressiveClassifier\n",
    "model=PassiveAggressiveClassifier(max_iter=50)\n",
    "model.fit(tfidf_train,y_train)"
   ]
  },
  {
   "cell_type": "code",
   "execution_count": 92,
   "id": "b0a0a757",
   "metadata": {},
   "outputs": [
    {
     "data": {
      "text/plain": [
       "0.9983081032947462"
      ]
     },
     "execution_count": 92,
     "metadata": {},
     "output_type": "execute_result"
    }
   ],
   "source": [
    "pred2=model.predict(tfidf_test)\n",
    "cr2=accuracy_score(y_test,pred2)\n",
    "cr2"
   ]
  }
 ],
 "metadata": {
  "kernelspec": {
   "display_name": "Python 3 (ipykernel)",
   "language": "python",
   "name": "python3"
  },
  "language_info": {
   "codemirror_mode": {
    "name": "ipython",
    "version": 3
   },
   "file_extension": ".py",
   "mimetype": "text/x-python",
   "name": "python",
   "nbconvert_exporter": "python",
   "pygments_lexer": "ipython3",
   "version": "3.9.13"
  }
 },
 "nbformat": 4,
 "nbformat_minor": 5
}
